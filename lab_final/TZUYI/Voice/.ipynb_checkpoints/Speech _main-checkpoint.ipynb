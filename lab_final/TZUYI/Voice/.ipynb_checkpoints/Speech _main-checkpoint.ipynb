{
 "cells": [
  {
   "cell_type": "markdown",
   "metadata": {},
   "source": [
    "# 語音辨識->文本斷詞->預測"
   ]
  },
  {
   "cell_type": "code",
   "execution_count": 1,
   "metadata": {},
   "outputs": [
    {
     "name": "stdout",
     "output_type": "stream",
     "text": [
      "+---------------------------------------------------------------------+\n",
      "  Welcome to MONPA: Multi-Objective NER POS Annotator for Chinese\n",
      "+---------------------------------------------------------------------+\n",
      "已找到 model檔。Found model file.\n"
     ]
    }
   ],
   "source": [
    "import monpa\n",
    "import numpy as np\n",
    "import pandas as pd\n",
    "from sklearn.feature_extraction.text import TfidfVectorizer\n",
    "from sklearn.feature_extraction.text import CountVectorizer\n",
    "from sklearn.pipeline import Pipeline\n",
    "from sklearn.model_selection import KFold\n",
    "from sklearn.naive_bayes import MultinomialNB,CategoricalNB,GaussianNB,ComplementNB,ComplementNB,BernoulliNB\n",
    "from sklearn.linear_model import LogisticRegression\n",
    "# from xgboost import XGBClassifier\n",
    "from sklearn.ensemble import RandomForestClassifier\n",
    "from sklearn.svm import SVC\n",
    "# import xgboost as xgb\n",
    "from sklearn import metrics\n",
    "from sklearn.pipeline import make_pipeline\n",
    "from sklearn.preprocessing import FunctionTransformer\n",
    "from sklearn.model_selection import cross_val_score, GridSearchCV, train_test_split, cross_validate, RandomizedSearchCV"
   ]
  },
  {
   "cell_type": "code",
   "execution_count": 2,
   "metadata": {},
   "outputs": [],
   "source": [
    "#載入已訓練模型\n",
    "from joblib import dump, load\n",
    "model = load('Priority_Recognition.joblib') "
   ]
  },
  {
   "cell_type": "code",
   "execution_count": 3,
   "metadata": {},
   "outputs": [
    {
     "data": {
      "text/plain": [
       "(763, ['$', '0', '1', '2', '3', '4', '5', '6', '7', '8'])"
      ]
     },
     "execution_count": 3,
     "metadata": {},
     "output_type": "execute_result"
    }
   ],
   "source": [
    "#讀入stopword\n",
    "stopWords=[]\n",
    "with open('NEW_stopwords.txt', 'r', encoding='UTF-8') as file:\n",
    "    for data in file.readlines():\n",
    "        data = data.strip()\n",
    "        stopWords.append(data)\n",
    "len(stopWords),stopWords[:10]"
   ]
  },
  {
   "cell_type": "code",
   "execution_count": 4,
   "metadata": {},
   "outputs": [
    {
     "data": {
      "text/plain": [
       "(74, ['沒有', '何必', '何須', '何曾', '何嘗', '無需', '毋庸', '不大', '不丁點兒', '不甚'])"
      ]
     },
     "execution_count": 4,
     "metadata": {},
     "output_type": "execute_result"
    }
   ],
   "source": [
    "#讀入否定詞\n",
    "deny_adv=[]\n",
    "with open('deny_adv否定詞繁體.txt', 'r', encoding='UTF-8') as file:\n",
    "    for data in file.readlines():\n",
    "        data = data.strip()\n",
    "        deny_adv.append(data)\n",
    "len(deny_adv),deny_adv[:10]"
   ]
  },
  {
   "cell_type": "code",
   "execution_count": 5,
   "metadata": {},
   "outputs": [],
   "source": [
    "#斷詞前處理\n",
    "def clean_seg(sentence):\n",
    "    result_cut_batch = monpa.cut_batch(sentence)\n",
    "    seg = []\n",
    "    for item in result_cut_batch:\n",
    "        seg.extend(item)\n",
    "    seg = ' '.join(seg)\n",
    "    data = []\n",
    "    seg = str(seg).split(\" \")\n",
    "    seg = ' '.join([word for word in seg if word not in stopWords])\n",
    "    data.append(seg)\n",
    "    return data"
   ]
  },
  {
   "cell_type": "code",
   "execution_count": 6,
   "metadata": {},
   "outputs": [],
   "source": [
    "# #讀訓練資料\n",
    "import pickle\n",
    "with open('train_final.pickle', 'rb') as file1:\n",
    "     train_dataset= pickle.load(file1)"
   ]
  },
  {
   "cell_type": "code",
   "execution_count": 7,
   "metadata": {},
   "outputs": [],
   "source": [
    "train_text = train_dataset['retext']\n",
    "train_labels = train_dataset['Label']"
   ]
  },
  {
   "cell_type": "code",
   "execution_count": 8,
   "metadata": {},
   "outputs": [
    {
     "data": {
      "text/plain": [
       "TfidfVectorizer(ngram_range=(1, 2))"
      ]
     },
     "execution_count": 8,
     "metadata": {},
     "output_type": "execute_result"
    }
   ],
   "source": [
    "tfidf_vect = TfidfVectorizer(ngram_range=(1,2))\n",
    "tfidf_vect.fit(train_text)"
   ]
  },
  {
   "cell_type": "code",
   "execution_count": 16,
   "metadata": {},
   "outputs": [],
   "source": [
    "import tempfile\n",
    "from gtts import gTTS\n",
    "from pygame import mixer\n",
    "import wave\n",
    "def speak(sentence):\n",
    "    with tempfile.NamedTemporaryFile(delete=True) as fp:\n",
    "        tts = gTTS(text=sentence, lang='zh')\n",
    "        tts.save(\"{}.mp3\".format(fp.name))\n",
    "        mixer.init()\n",
    "        mixer.music.load(\"{}.mp3\".format(fp.name))\n",
    "        mixer.music.play()\n",
    "\n",
    "def Play_Voice(AUDIO_FILE_NAME):\n",
    "    CHUNK = 1024\n",
    "    #開啟聲音的檔案\n",
    "    File = wave.open(AUDIO_FILE_NAME,\"rb\")\n",
    "    #導入PyAudio\n",
    "    p = pyaudio.PyAudio()\n",
    "    #開啟串流 open stream\n",
    "    stream = p.open(format = p.get_format_from_width(File.getsampwidth()),\n",
    "                    channels = File.getnchannels(),\n",
    "                    rate = File.getframerate(),\n",
    "                    output = True)\n",
    "    #讀取音源檔\n",
    "    data = File.readframes(CHUNK)\n",
    "    #播放音源檔\n",
    "    while data:\n",
    "        stream.write(data)\n",
    "        data = File.readframes(CHUNK)\n",
    "    #停止音源檔\n",
    "    stream.stop_stream()\n",
    "    stream.close()\n",
    "    #關閉 PyAudio\n",
    "    p.terminate()\n",
    "\n",
    "def recognition(xx):\n",
    "    ans_transfrom = []\n",
    "    for ans in xx:\n",
    "        if ans == 0:\n",
    "            ans_transfrom.append('一般(慢燈)')\n",
    "        elif ans == 1:\n",
    "            ans_transfrom.append('緊急(快燈)')\n",
    "    return ans_transfrom"
   ]
  },
  {
   "cell_type": "markdown",
   "metadata": {},
   "source": [
    "### 講話測試"
   ]
  },
  {
   "cell_type": "code",
   "execution_count": 14,
   "metadata": {},
   "outputs": [],
   "source": [
    "import pyaudio"
   ]
  },
  {
   "cell_type": "code",
   "execution_count": 26,
   "metadata": {},
   "outputs": [
    {
     "name": "stdout",
     "output_type": "stream",
     "text": [
      "請開始說話.....\n",
      "轉換語音檔成文字: \n",
      "病人說:  I had a stomach ache\n",
      "系統說:  收到\n",
      "\n",
      "斷詞後:  I had a stomach ache\n",
      "辨識結果:  ['一般(慢燈)']\n"
     ]
    }
   ],
   "source": [
    "import speech_recognition\n",
    "r = speech_recognition.Recognizer()\n",
    "print(\"請開始說話.....\")\n",
    "with speech_recognition.Microphone() as source:\n",
    "    audio = r.listen(source)\n",
    "\n",
    "print('轉換語音檔成文字: ')\n",
    "sentence = r.recognize_google(audio, language='zh-TW')\n",
    "# sentence = r.recognize_google(audio, language='en-TW')\n",
    "print('病人說: ',sentence)\n",
    "\n",
    "response = \"收到\"\n",
    "speak(response)\n",
    "print('系統說: ',response)\n",
    "\n",
    "AUDIO_FILE_NAME = (\"C://Users/tzuyi/Voice/sound.wav\")\n",
    "Play_Voice(AUDIO_FILE_NAME)\n",
    "\n",
    "seg = clean_seg(sentence)\n",
    "print('\\n斷詞後: ',' '.join(seg))\n",
    "\n",
    "vectors_test = TfidfVectorizer(vocabulary=tfidf_vect.vocabulary_).fit_transform(seg)\n",
    "answer = model.predict(vectors_test)\n",
    "print('辨識結果: ',recognition(answer))"
   ]
  }
 ],
 "metadata": {
  "kernelspec": {
   "display_name": "tf_test",
   "language": "python",
   "name": "tf_test"
  },
  "language_info": {
   "codemirror_mode": {
    "name": "ipython",
    "version": 3
   },
   "file_extension": ".py",
   "mimetype": "text/x-python",
   "name": "python",
   "nbconvert_exporter": "python",
   "pygments_lexer": "ipython3",
   "version": "3.7.9"
  }
 },
 "nbformat": 4,
 "nbformat_minor": 5
}

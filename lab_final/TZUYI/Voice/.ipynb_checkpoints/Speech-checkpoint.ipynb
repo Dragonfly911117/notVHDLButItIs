{
 "cells": [
  {
   "cell_type": "code",
   "execution_count": 1,
   "id": "moderate-citizenship",
   "metadata": {},
   "outputs": [
    {
     "name": "stdout",
     "output_type": "stream",
     "text": [
      "+---------------------------------------------------------------------+\n",
      "  Welcome to MONPA: Multi-Objective NER POS Annotator for Chinese\n",
      "+---------------------------------------------------------------------+\n",
      "已找到 model檔。Found model file.\n"
     ]
    }
   ],
   "source": [
    "import monpa"
   ]
  },
  {
   "cell_type": "code",
   "execution_count": 2,
   "id": "unusual-plaza",
   "metadata": {},
   "outputs": [],
   "source": [
    "monpa.use_gpu(True)"
   ]
  },
  {
   "cell_type": "code",
   "execution_count": 3,
   "id": "addressed-criminal",
   "metadata": {},
   "outputs": [
    {
     "name": "stdout",
     "output_type": "stream",
     "text": [
      "['蔡英文', '總統', '今天', '受', '邀', '參加', '台北市政府', '所', '舉辦', '的', '陽明山', '馬拉松', '比賽', '。']\n",
      "['蔡英文', '總統', '今天', '受', '邀', '參加', '台北市政府', '所', '舉辦', '的', '陽明山', '馬拉松', '比賽', '。']\n"
     ]
    }
   ],
   "source": [
    "sentence_list = [\"蔡英文總統今天受邀參加台北市政府所舉辦的陽明山馬拉松比賽。\", \"蔡英文總統今天受邀參加台北市政府所舉辦的陽明山馬拉松比賽。\"]\n",
    "result_cut_batch = monpa.cut_batch(sentence_list)\n",
    "\n",
    "for item in result_cut_batch:\n",
    "    print(item)"
   ]
  },
  {
   "cell_type": "code",
   "execution_count": 25,
   "id": "wired-component",
   "metadata": {},
   "outputs": [],
   "source": [
    "def monpa_cut(sentence):\n",
    "    result_cut_batch = monpa.cut_batch(sentence)\n",
    "    data = []\n",
    "    for item in result_cut_batch:\n",
    "        data.extend(item)\n",
    "    data = ' '.join(data)\n",
    "    return data"
   ]
  },
  {
   "cell_type": "code",
   "execution_count": 23,
   "id": "competent-december",
   "metadata": {},
   "outputs": [
    {
     "data": {
      "text/plain": [
       "(763, ['$', '0', '1', '2', '3', '4', '5', '6', '7', '8'])"
      ]
     },
     "execution_count": 23,
     "metadata": {},
     "output_type": "execute_result"
    }
   ],
   "source": [
    "#讀入stopword\n",
    "stopWords=[]\n",
    "with open('NEW_stopwords.txt', 'r', encoding='UTF-8') as file:\n",
    "    for data in file.readlines():\n",
    "        data = data.strip()\n",
    "        stopWords.append(data)\n",
    "len(stopWords),stopWords[:10]"
   ]
  },
  {
   "cell_type": "code",
   "execution_count": 24,
   "id": "civic-system",
   "metadata": {},
   "outputs": [
    {
     "data": {
      "text/plain": [
       "(74, ['沒有', '何必', '何須', '何曾', '何嘗', '無需', '毋庸', '不大', '不丁點兒', '不甚'])"
      ]
     },
     "execution_count": 24,
     "metadata": {},
     "output_type": "execute_result"
    }
   ],
   "source": [
    "#讀入否定詞\n",
    "deny_adv=[]\n",
    "with open('deny_adv否定詞繁體.txt', 'r', encoding='UTF-8') as file:\n",
    "    for data in file.readlines():\n",
    "        data = data.strip()\n",
    "        deny_adv.append(data)\n",
    "len(deny_adv),deny_adv[:10]"
   ]
  },
  {
   "cell_type": "code",
   "execution_count": 48,
   "id": "specific-croatia",
   "metadata": {},
   "outputs": [],
   "source": [
    "def clean(text):\n",
    "    text = str(text).split(\" \")\n",
    "    text = ' '.join([word for word in text if word not in stopWords])\n",
    "#     text = str(text).split(\" \")\n",
    "#     data.append(text)\n",
    "    return text"
   ]
  },
  {
   "cell_type": "code",
   "execution_count": 70,
   "id": "cooperative-breach",
   "metadata": {},
   "outputs": [],
   "source": [
    "def clean_seg(sentence):\n",
    "    result_cut_batch = monpa.cut_batch(sentence)\n",
    "    seg = []\n",
    "    for item in result_cut_batch:\n",
    "        seg.extend(item)\n",
    "    seg = ' '.join(seg)\n",
    "    data = []\n",
    "    seg = str(seg).split(\" \")\n",
    "    seg = ' '.join([word for word in seg if word not in stopWords])\n",
    "    data.append(seg)\n",
    "    return data"
   ]
  },
  {
   "cell_type": "markdown",
   "id": "indian-hospital",
   "metadata": {},
   "source": [
    "# 語音辨識"
   ]
  },
  {
   "cell_type": "markdown",
   "id": "undefined-croatia",
   "metadata": {},
   "source": [
    "### 講話"
   ]
  },
  {
   "cell_type": "code",
   "execution_count": 27,
   "id": "minute-count",
   "metadata": {},
   "outputs": [],
   "source": [
    "import pyaudio"
   ]
  },
  {
   "cell_type": "code",
   "execution_count": 28,
   "id": "defensive-harvest",
   "metadata": {},
   "outputs": [
    {
     "data": {
      "text/plain": [
       "'請問醫生什麼時候來'"
      ]
     },
     "execution_count": 28,
     "metadata": {},
     "output_type": "execute_result"
    }
   ],
   "source": [
    "import speech_recognition\n",
    "r = speech_recognition.Recognizer()\n",
    "with speech_recognition.Microphone() as source:\n",
    "    audio = r.listen(source)\n",
    "sentence = r.recognize_google(audio, language='zh-TW')\n",
    "sentence"
   ]
  },
  {
   "cell_type": "code",
   "execution_count": 10,
   "id": "genuine-blues",
   "metadata": {
    "scrolled": true
   },
   "outputs": [
    {
     "data": {
      "text/plain": [
       "'今天是星期幾'"
      ]
     },
     "execution_count": 10,
     "metadata": {},
     "output_type": "execute_result"
    }
   ],
   "source": [
    "r.recognize_google(audio, language='zh-TW')"
   ]
  },
  {
   "cell_type": "markdown",
   "id": "relevant-satellite",
   "metadata": {},
   "source": [
    "### 影片"
   ]
  },
  {
   "cell_type": "code",
   "execution_count": 25,
   "id": "voluntary-cartridge",
   "metadata": {},
   "outputs": [
    {
     "name": "stdout",
     "output_type": "stream",
     "text": [
      "播放語音檔:\n",
      "轉換語音檔成文字: \n",
      "語音測試今天天氣好嗎\n",
      "\n",
      "\n",
      "檔案C://Users/tzuyi/Voice/Voice.txt已存檔。\n"
     ]
    }
   ],
   "source": [
    "import speech_recognition\n",
    "import re \n",
    "import time\n",
    "import os\n",
    "import pyaudio\n",
    "import wave\n",
    "def Play_Voice(AUDIO_FILE_NAME):\n",
    "    CHUNK = 1024\n",
    "    #開啟聲音的檔案\n",
    "    File = wave.open(AUDIO_FILE_NAME,\"rb\")\n",
    "    #導入PyAudio\n",
    "    p = pyaudio.PyAudio()\n",
    "    #開啟串流 open stream\n",
    "    stream = p.open(format = p.get_format_from_width(File.getsampwidth()),\n",
    "                    channels = File.getnchannels(),\n",
    "                    rate = File.getframerate(),\n",
    "                    output = True)\n",
    "    #讀取音源檔\n",
    "    data = File.readframes(CHUNK)\n",
    "    #播放音源檔\n",
    "    while data:\n",
    "        stream.write(data)\n",
    "        data = File.readframes(CHUNK)\n",
    "    #停止音源檔\n",
    "    stream.stop_stream()\n",
    "    stream.close()\n",
    "    #關閉 PyAudio\n",
    "    p.terminate()\n",
    "\n",
    "def AudioFile_To_Text(AUDIO_FILE_NAME):\n",
    "    r = speech_recognition.Recognizer()\n",
    "    with speech_recognition.AudioFile(AUDIO_FILE_NAME) as source:\n",
    "        r.adjust_for_ambient_noise(source, duration=0)\n",
    "        audio = r.record(source) #英文語音檔案\n",
    "    Text = r.recognize_google(audio, language='zh-US') #中文語音檔案\n",
    "#     Text = r.recognize_google(audio, language= 'en-US')\n",
    "    return Text\n",
    "        \n",
    "#中文語音翻譯中文文字\n",
    "def Voice_To_Text():\n",
    "    r = speech_recognition.Recognizer()\n",
    "    with speech_recognition.Microphone() as source:\n",
    "        print(\"請開始說話\")\n",
    "        #函數調整麥克風的聲音:\n",
    "        r.adjust_for_ambient_noise(source)\n",
    "        audio = r.listen(source)\n",
    "    try:\n",
    "        Text = r.recognize_google(audio,language='zh-TW')\n",
    "    except r.UnknownValueError:\n",
    "        Text=\"無法翻譯\"\n",
    "    except sr.RequestError as e:\n",
    "        Text=\"無法翻譯{0}\".format(e)\n",
    "    return Text\n",
    "\n",
    "#設定文字檔儲存路徑\n",
    "outfile = \"C://Users/tzuyi/Voice/Voice.txt\"\n",
    "f1 = open(outfile, 'w',encoding='CP950')\n",
    "\n",
    "print('播放語音檔:')\n",
    "AUDIO_FILE_NAME = (\"C://Users/tzuyi/Voice/Speech.wav\")\n",
    "Play_Voice(AUDIO_FILE_NAME)\n",
    "\n",
    "print('轉換語音檔成文字: ')\n",
    "Text = AudioFile_To_Text(AUDIO_FILE_NAME)\n",
    "print(Text)\n",
    "f1.write(Text) #將轉換文字存檔\n",
    "# print('口語翻譯成文字: ')\n",
    "# Text = Voice_To_Text()\n",
    "# print(Text)\n",
    "# f1.write(Text+'\\n') #將轉換文字存檔\n",
    "print('\\n\\n檔案' + outfile+ '已存檔。')\n",
    "f1.close()"
   ]
  },
  {
   "cell_type": "markdown",
   "id": "turkish-stage",
   "metadata": {},
   "source": [
    "### 播放"
   ]
  },
  {
   "cell_type": "code",
   "execution_count": 11,
   "id": "adopted-church",
   "metadata": {},
   "outputs": [],
   "source": [
    "from gtts import gTTS\n",
    "# tts = gTTS(text='Hello', lang='en')\n",
    "tts = gTTS(text='好的，我等一下會請人過去找您!', lang='zh')\n",
    "tts.save(\"C://Users/tzuyi/Voice/response1.mp3\")\n",
    "# tts.save(\"C://Users\\tzuyi/Voice/response.wav\")"
   ]
  },
  {
   "cell_type": "code",
   "execution_count": 12,
   "id": "stock-desert",
   "metadata": {},
   "outputs": [],
   "source": [
    "from pygame import mixer\n",
    "mixer.init()\n",
    "mixer.music.load('response1.mp3')\n",
    "mixer.music.play()"
   ]
  },
  {
   "cell_type": "code",
   "execution_count": 21,
   "id": "neither-centre",
   "metadata": {},
   "outputs": [],
   "source": [
    "import tempfile\n",
    "def speak(sentence):\n",
    "    with tempfile.NamedTemporaryFile(delete=True) as fp:\n",
    "#         tts = gTTS(text='好的，我等一下會請人過去找您!', lang='zh')\n",
    "    #     tts.save(\"C://Users/tzuyi/Voice/response.mp3\")\n",
    "    #     mixer.music.load('response.mp3')\n",
    "        tts = gTTS(text=sentence, lang='zh')\n",
    "        tts.save(\"{}.mp3\".format(fp.name))\n",
    "        mixer.music.load(\"{}.mp3\".format(fp.name))\n",
    "        mixer.music.play()"
   ]
  },
  {
   "cell_type": "code",
   "execution_count": 26,
   "id": "critical-recycling",
   "metadata": {},
   "outputs": [
    {
     "name": "stdout",
     "output_type": "stream",
     "text": [
      "口語翻譯成文字: \n",
      "請開始說話\n",
      "可以過來幫我嗎\n"
     ]
    }
   ],
   "source": [
    "print('口語翻譯成文字: ')\n",
    "Text = Voice_To_Text()\n",
    "print(Text)\n",
    "speak(\"好的，我等一下會請人過去找您\")"
   ]
  },
  {
   "cell_type": "markdown",
   "id": "billion-chart",
   "metadata": {},
   "source": [
    "### 測試"
   ]
  },
  {
   "cell_type": "code",
   "execution_count": 76,
   "id": "cathedral-connection",
   "metadata": {},
   "outputs": [],
   "source": [
    "# #讀資料\n",
    "import pickle\n",
    "with open('train_final.pickle', 'rb') as file1:\n",
    "     train_dataset= pickle.load(file1)"
   ]
  },
  {
   "cell_type": "code",
   "execution_count": 77,
   "id": "cardiac-knight",
   "metadata": {},
   "outputs": [
    {
     "data": {
      "text/html": [
       "<div>\n",
       "<style scoped>\n",
       "    .dataframe tbody tr th:only-of-type {\n",
       "        vertical-align: middle;\n",
       "    }\n",
       "\n",
       "    .dataframe tbody tr th {\n",
       "        vertical-align: top;\n",
       "    }\n",
       "\n",
       "    .dataframe thead th {\n",
       "        text-align: right;\n",
       "    }\n",
       "</style>\n",
       "<table border=\"1\" class=\"dataframe\">\n",
       "  <thead>\n",
       "    <tr style=\"text-align: right;\">\n",
       "      <th></th>\n",
       "      <th>Text</th>\n",
       "      <th>Label</th>\n",
       "      <th>text</th>\n",
       "      <th>new_text</th>\n",
       "      <th>retext</th>\n",
       "    </tr>\n",
       "  </thead>\n",
       "  <tbody>\n",
       "    <tr>\n",
       "      <th>0</th>\n",
       "      <td>什麼時候灌奶的</td>\n",
       "      <td>0</td>\n",
       "      <td>[[什麼, 時候, 灌奶, 的, 。]]</td>\n",
       "      <td>什麼 時候 灌奶 的</td>\n",
       "      <td>灌奶</td>\n",
       "    </tr>\n",
       "    <tr>\n",
       "      <th>1</th>\n",
       "      <td>有人在抽菸</td>\n",
       "      <td>0</td>\n",
       "      <td>[[有, 人, 在, 抽菸, 。]]</td>\n",
       "      <td>有 人 在 抽菸</td>\n",
       "      <td>抽菸</td>\n",
       "    </tr>\n",
       "    <tr>\n",
       "      <th>2</th>\n",
       "      <td>看一下是不是壓瘡</td>\n",
       "      <td>1</td>\n",
       "      <td>[[看, 一下, 是, 不, 是, 壓瘡, 。]]</td>\n",
       "      <td>看 一下 是 不 是 壓瘡</td>\n",
       "      <td>一下 不 壓瘡</td>\n",
       "    </tr>\n",
       "    <tr>\n",
       "      <th>3</th>\n",
       "      <td>冷氣怎麼調</td>\n",
       "      <td>0</td>\n",
       "      <td>[[冷氣, 怎麼, 調, 。]]</td>\n",
       "      <td>冷氣 怎麼 調</td>\n",
       "      <td>冷氣 調</td>\n",
       "    </tr>\n",
       "    <tr>\n",
       "      <th>4</th>\n",
       "      <td>心跳很快呼吸很喘</td>\n",
       "      <td>1</td>\n",
       "      <td>[[心跳, 很, 快, 呼吸, 很, 喘, 。]]</td>\n",
       "      <td>心跳 很 快 呼吸 很 喘</td>\n",
       "      <td>心跳 快 呼吸 喘</td>\n",
       "    </tr>\n",
       "    <tr>\n",
       "      <th>...</th>\n",
       "      <td>...</td>\n",
       "      <td>...</td>\n",
       "      <td>...</td>\n",
       "      <td>...</td>\n",
       "      <td>...</td>\n",
       "    </tr>\n",
       "    <tr>\n",
       "      <th>594</th>\n",
       "      <td>我好痛</td>\n",
       "      <td>1</td>\n",
       "      <td>[[我, 好痛, 。]]</td>\n",
       "      <td>我 好痛</td>\n",
       "      <td>好痛</td>\n",
       "    </tr>\n",
       "    <tr>\n",
       "      <th>595</th>\n",
       "      <td>怎麼辦?我現在睡不著</td>\n",
       "      <td>0</td>\n",
       "      <td>[[怎麼辦, ?, 我, 現在, 睡不著, 。]]</td>\n",
       "      <td>怎麼辦 ? 我 現在 睡不著</td>\n",
       "      <td>現在 睡不著</td>\n",
       "    </tr>\n",
       "    <tr>\n",
       "      <th>596</th>\n",
       "      <td>血氧濃度下降</td>\n",
       "      <td>1</td>\n",
       "      <td>[[血氧, 濃度, 下降, 。]]</td>\n",
       "      <td>血氧 濃度 下降</td>\n",
       "      <td>血氧 濃度 下降</td>\n",
       "    </tr>\n",
       "    <tr>\n",
       "      <th>597</th>\n",
       "      <td>病人大便了，要看一下嗎</td>\n",
       "      <td>1</td>\n",
       "      <td>[[病人, 大便, 了, ，, 要, 看, 一下, 嗎, 。]]</td>\n",
       "      <td>病人 大便 了 ， 要 看 一下 嗎</td>\n",
       "      <td>病人 大便 一下</td>\n",
       "    </tr>\n",
       "    <tr>\n",
       "      <th>598</th>\n",
       "      <td>我的點滴已經滴完了</td>\n",
       "      <td>0</td>\n",
       "      <td>[[我, 的, 點滴, 已經, 滴, 完, 了, 。]]</td>\n",
       "      <td>我 的 點滴 已經 滴 完 了</td>\n",
       "      <td>點滴 已經 滴 完</td>\n",
       "    </tr>\n",
       "  </tbody>\n",
       "</table>\n",
       "<p>599 rows × 5 columns</p>\n",
       "</div>"
      ],
      "text/plain": [
       "            Text  Label                              text            new_text  \\\n",
       "0        什麼時候灌奶的      0              [[什麼, 時候, 灌奶, 的, 。]]          什麼 時候 灌奶 的   \n",
       "1          有人在抽菸      0                [[有, 人, 在, 抽菸, 。]]            有 人 在 抽菸   \n",
       "2       看一下是不是壓瘡      1         [[看, 一下, 是, 不, 是, 壓瘡, 。]]       看 一下 是 不 是 壓瘡   \n",
       "3          冷氣怎麼調      0                  [[冷氣, 怎麼, 調, 。]]             冷氣 怎麼 調   \n",
       "4       心跳很快呼吸很喘      1         [[心跳, 很, 快, 呼吸, 很, 喘, 。]]       心跳 很 快 呼吸 很 喘   \n",
       "..           ...    ...                               ...                 ...   \n",
       "594          我好痛      1                      [[我, 好痛, 。]]                我 好痛   \n",
       "595   怎麼辦?我現在睡不著      0         [[怎麼辦, ?, 我, 現在, 睡不著, 。]]      怎麼辦 ? 我 現在 睡不著   \n",
       "596       血氧濃度下降      1                 [[血氧, 濃度, 下降, 。]]            血氧 濃度 下降   \n",
       "597  病人大便了，要看一下嗎      1  [[病人, 大便, 了, ，, 要, 看, 一下, 嗎, 。]]  病人 大便 了 ， 要 看 一下 嗎   \n",
       "598    我的點滴已經滴完了      0      [[我, 的, 點滴, 已經, 滴, 完, 了, 。]]     我 的 點滴 已經 滴 完 了   \n",
       "\n",
       "        retext  \n",
       "0           灌奶  \n",
       "1           抽菸  \n",
       "2      一下 不 壓瘡  \n",
       "3         冷氣 調  \n",
       "4    心跳 快 呼吸 喘  \n",
       "..         ...  \n",
       "594         好痛  \n",
       "595     現在 睡不著  \n",
       "596   血氧 濃度 下降  \n",
       "597   病人 大便 一下  \n",
       "598  點滴 已經 滴 完  \n",
       "\n",
       "[599 rows x 5 columns]"
      ]
     },
     "execution_count": 77,
     "metadata": {},
     "output_type": "execute_result"
    }
   ],
   "source": [
    "train_dataset"
   ]
  },
  {
   "cell_type": "code",
   "execution_count": 78,
   "id": "instrumental-orlando",
   "metadata": {},
   "outputs": [],
   "source": [
    "train_text = train_dataset['retext']\n",
    "train_labels = train_dataset['Label']"
   ]
  },
  {
   "cell_type": "code",
   "execution_count": 71,
   "id": "appropriate-sigma",
   "metadata": {},
   "outputs": [],
   "source": [
    "import numpy as np\n",
    "import pandas as pd\n",
    "from sklearn.feature_extraction.text import TfidfVectorizer\n",
    "from sklearn.feature_extraction.text import CountVectorizer\n",
    "from sklearn.pipeline import Pipeline\n",
    "from sklearn.model_selection import KFold\n",
    "from sklearn.naive_bayes import MultinomialNB,CategoricalNB,GaussianNB,ComplementNB,ComplementNB,BernoulliNB\n",
    "from sklearn.linear_model import LogisticRegression\n",
    "# from xgboost import XGBClassifier\n",
    "from sklearn.ensemble import RandomForestClassifier\n",
    "from sklearn.svm import SVC\n",
    "# import xgboost as xgb\n",
    "from sklearn import metrics\n",
    "from sklearn.pipeline import make_pipeline\n",
    "from sklearn.preprocessing import FunctionTransformer\n",
    "from sklearn.model_selection import cross_val_score, GridSearchCV, train_test_split, cross_validate, RandomizedSearchCV"
   ]
  },
  {
   "cell_type": "code",
   "execution_count": 72,
   "id": "prescribed-philosophy",
   "metadata": {},
   "outputs": [
    {
     "data": {
      "text/plain": [
       "['現在 心臟 跳 超 快 快要 受不了']"
      ]
     },
     "execution_count": 72,
     "metadata": {},
     "output_type": "execute_result"
    }
   ],
   "source": [
    "sentence = '我現在心臟跳超快，快要受不了'\n",
    "# seg = clean(monpa_cut(sentence))\n",
    "seg = clean_seg(sentence)\n",
    "seg"
   ]
  },
  {
   "cell_type": "code",
   "execution_count": 82,
   "id": "physical-roads",
   "metadata": {},
   "outputs": [],
   "source": [
    "from joblib import dump, load\n",
    "model = load('Priority_Recognition.joblib') "
   ]
  },
  {
   "cell_type": "code",
   "execution_count": 84,
   "id": "executive-architecture",
   "metadata": {},
   "outputs": [
    {
     "data": {
      "text/plain": [
       "array([1], dtype=int64)"
      ]
     },
     "execution_count": 84,
     "metadata": {},
     "output_type": "execute_result"
    }
   ],
   "source": [
    "# tfidf_BOW = TfidfVectorizer(ngram_range=(1,2))\n",
    "tfidf_vect = TfidfVectorizer(ngram_range=(1,2))\n",
    "tfidf_vect.fit(train_text)\n",
    "vectors_test = TfidfVectorizer(vocabulary=tfidf_vect.vocabulary_).fit_transform(seg)\n",
    "# vectors_test = tfidf_BOW.transform(seg)\n",
    "answer = model.predict(vectors_test)\n",
    "answer"
   ]
  },
  {
   "cell_type": "code",
   "execution_count": null,
   "id": "attractive-hamburg",
   "metadata": {},
   "outputs": [],
   "source": []
  },
  {
   "cell_type": "code",
   "execution_count": null,
   "id": "casual-wallpaper",
   "metadata": {},
   "outputs": [],
   "source": []
  },
  {
   "cell_type": "code",
   "execution_count": null,
   "id": "favorite-blogger",
   "metadata": {},
   "outputs": [],
   "source": []
  },
  {
   "cell_type": "code",
   "execution_count": null,
   "id": "distinct-fountain",
   "metadata": {},
   "outputs": [],
   "source": []
  },
  {
   "cell_type": "code",
   "execution_count": null,
   "id": "confused-trail",
   "metadata": {},
   "outputs": [],
   "source": []
  },
  {
   "cell_type": "code",
   "execution_count": null,
   "id": "herbal-defense",
   "metadata": {},
   "outputs": [],
   "source": []
  }
 ],
 "metadata": {
  "kernelspec": {
   "display_name": "tf_test",
   "language": "python",
   "name": "tf_test"
  },
  "language_info": {
   "codemirror_mode": {
    "name": "ipython",
    "version": 3
   },
   "file_extension": ".py",
   "mimetype": "text/x-python",
   "name": "python",
   "nbconvert_exporter": "python",
   "pygments_lexer": "ipython3",
   "version": "3.7.9"
  }
 },
 "nbformat": 4,
 "nbformat_minor": 5
}
